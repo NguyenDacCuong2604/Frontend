{
  "nbformat": 4,
  "nbformat_minor": 0,
  "metadata": {
    "colab": {
      "provenance": [],
      "authorship_tag": "ABX9TyMoNBIY16ucFQVeDCU80e2z",
      "include_colab_link": true
    },
    "kernelspec": {
      "name": "python3",
      "display_name": "Python 3"
    },
    "language_info": {
      "name": "python"
    }
  },
  "cells": [
    {
      "cell_type": "markdown",
      "metadata": {
        "id": "view-in-github",
        "colab_type": "text"
      },
      "source": [
        "<a href=\"https://colab.research.google.com/github/NguyenDacCuong2604/Frontend/blob/main/CreateData.ipynb\" target=\"_parent\"><img src=\"https://colab.research.google.com/assets/colab-badge.svg\" alt=\"Open In Colab\"/></a>"
      ]
    },
    {
      "cell_type": "code",
      "execution_count": 9,
      "metadata": {
        "colab": {
          "base_uri": "https://localhost:8080/"
        },
        "id": "XBZ9se62fZ5g",
        "outputId": "54f9a408-1779-4fa3-9860-3478cdbf723b"
      },
      "outputs": [
        {
          "output_type": "stream",
          "name": "stdout",
          "text": [
            "Drive already mounted at /content/gdrive; to attempt to forcibly remount, call drive.mount(\"/content/gdrive\", force_remount=True).\n",
            "/content/gdrive/MyDrive/ML\n"
          ]
        }
      ],
      "source": [
        "from google.colab import drive\n",
        "drive.mount('/content/gdrive')\n",
        "%cd '/content/gdrive/MyDrive/ML'\n"
      ]
    },
    {
      "cell_type": "code",
      "source": [
        "import random\n",
        "import datetime\n",
        "#Name\n",
        "def generate_random_name():\n",
        "    first_names = ['John', 'Sarah', 'Michael', 'Emily', 'David', 'Sophia', 'William', 'Emma', 'Robert', 'Olivia', 'Tony', 'Jun', 'Chaset', 'Xoe', 'Ali', 'Ezel', 'Camile', 'Jana', 'Sylas', 'Thor', 'Goku']\n",
        "    last_names = ['Smith', 'Johnson', 'Williams', 'Jones', 'Brown', 'Davis', 'Miller', 'Wilson', 'Moore', 'Taylor', 'Fizz', 'Nunu', 'Zac', 'Jihn', 'Jihx', 'Noctune', 'Kame', 'Hasaki']\n",
        "    return random.choice(first_names) + ' ' + random.choice(last_names)\n",
        "#Birthday\n",
        "def generate_random_dob():\n",
        "    start_date = datetime.date(1997, 1, 1)\n",
        "    end_date = datetime.date(2003, 12, 31)\n",
        "    delta = end_date - start_date\n",
        "    random_days = random.randint(0, delta.days)\n",
        "    dob = start_date + datetime.timedelta(days=random_days)\n",
        "    return dob.strftime('%Y-%m-%d')\n",
        "#Score\n",
        "def generate_random_score():\n",
        "    return round(random.uniform(0, 10), 2)\n",
        "#gender\n",
        "def generate_random_gender():\n",
        "    genders = ['male', 'female']\n",
        "    return random.choice(genders)\n",
        "#DRL\n",
        "def generate_random_drl():\n",
        "    return random.randint(60, 100)\n",
        "#So TC\n",
        "def generate_random_tc():\n",
        "    return random.randint(60, 160)\n",
        "#City\n",
        "def generate_random_province():\n",
        "    provinces = ['Ha Noi', 'Ho Chi Minh', 'Da Nang', 'Hai Phong', 'Can Tho', 'An Giang', 'Vung Tau', 'Bac Giang', 'Bac Kan', 'Bac Lieu', 'Bac Ninh', 'Ben Tre', 'Binh Dinh', 'Binh Duong', 'Binh Phuoc', 'Binh Thuan', 'Ca Mau', 'Cao Bang', 'Dak Lak', 'Dak Nong', 'Dien Bien', 'Dong Nai', 'Dong Thap']\n",
        "    return random.choice(provinces)"
      ],
      "metadata": {
        "id": "HZmYzEQukOAm"
      },
      "execution_count": 16,
      "outputs": []
    },
    {
      "cell_type": "code",
      "source": [
        "import json\n",
        "with open('nguyendaccuong.json', 'w') as file:\n",
        "  list = []\n",
        "  for i in range(10000):\n",
        "    student = {\"id\": int(i+1), \"name\": generate_random_name(), \"gender\": generate_random_gender(), \"city\": generate_random_province(), \"birthday\": generate_random_dob(), \"score\": generate_random_score(), \"drl\": generate_random_drl(), \"so tc\": generate_random_tc()}\n",
        "    list.append(student)\n",
        "  json.dump(list, file)  "
      ],
      "metadata": {
        "id": "8DBPRB3AiwOW"
      },
      "execution_count": 26,
      "outputs": []
    },
    {
      "cell_type": "code",
      "source": [],
      "metadata": {
        "id": "993kpebdsi3S"
      },
      "execution_count": null,
      "outputs": []
    }
  ]
}